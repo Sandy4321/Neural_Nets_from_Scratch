{
 "cells": [
  {
   "cell_type": "code",
   "execution_count": 394,
   "metadata": {},
   "outputs": [],
   "source": [
    "import numpy as np\n",
    "from PIL import Image\n",
    "import matplotlib.pyplot as plt\n",
    "from matplotlib.pyplot import imshow\n",
    "import os\n",
    "import random\n",
    "import scipy.misc\n",
    "from functools import reduce\n",
    "%matplotlib inline"
   ]
  },
  {
   "cell_type": "markdown",
   "metadata": {},
   "source": [
    "Defining the path to the image files"
   ]
  },
  {
   "cell_type": "code",
   "execution_count": 512,
   "metadata": {},
   "outputs": [
    {
     "name": "stdout",
     "output_type": "stream",
     "text": [
      "/Users/jas/Documents/Python_Workspace/DeepLearning/Neural_Nets_from_scratch/train_sub\n"
     ]
    }
   ],
   "source": [
    "root = os.getcwd()\n",
    "train_path = os.path.join(root,'train_sub')\n",
    "print(train_path)\n",
    "test_path = os.path.join(root, 'test_sub')"
   ]
  },
  {
   "cell_type": "markdown",
   "metadata": {},
   "source": [
    "We will need to resize our images so as to make them uniform in size."
   ]
  },
  {
   "cell_type": "code",
   "execution_count": 570,
   "metadata": {},
   "outputs": [],
   "source": [
    "pic_height = 50\n",
    "pic_width = 50"
   ]
  },
  {
   "cell_type": "markdown",
   "metadata": {},
   "source": [
    "Now, let's resize the image to the above set values and flatten the resulting array to have a size (3* pic_height*pic_width, 1). We then append that to a larger array which forms the training set."
   ]
  },
  {
   "cell_type": "code",
   "execution_count": 571,
   "metadata": {},
   "outputs": [],
   "source": [
    "def get_dataset(path):\n",
    "    for root, dirs, fils in os.walk(path):\n",
    "        X = []\n",
    "        Y = []\n",
    "        n = len(fils)\n",
    "        print('{} files in directory'.format(n))\n",
    "        for fil in fils:\n",
    "            if fil[0]=='.':\n",
    "                pass\n",
    "            else:\n",
    "                pic = Image.open(os.path.join(root,fil))\n",
    "        #         print(pic.size)\n",
    "                pic_resized = scipy.misc.imresize(pic, (pic_height, pic_width)).flatten()\n",
    "                X.append(pic_resized)\n",
    "\n",
    "                animal = fil.split('.')[0]\n",
    "                if animal == 'cat':\n",
    "                    y = 1\n",
    "                elif animal == 'dog':\n",
    "                    y = 0\n",
    "                else:\n",
    "                    raise ValueError('No value given for animal')\n",
    "                Y.append(y)\n",
    "\n",
    "    X = np.array(X).reshape(n, -1)\n",
    "    Y = np.array(Y).reshape(n, -1)\n",
    "    return X, Y, n"
   ]
  },
  {
   "cell_type": "code",
   "execution_count": 572,
   "metadata": {},
   "outputs": [
    {
     "name": "stdout",
     "output_type": "stream",
     "text": [
      "1044 files in directory\n"
     ]
    },
    {
     "name": "stderr",
     "output_type": "stream",
     "text": [
      "/usr/local/lib/python3.6/site-packages/ipykernel_launcher.py:13: DeprecationWarning: `imresize` is deprecated!\n",
      "`imresize` is deprecated in SciPy 1.0.0, and will be removed in 1.2.0.\n",
      "Use ``skimage.transform.resize`` instead.\n",
      "  del sys.path[0]\n"
     ]
    },
    {
     "name": "stdout",
     "output_type": "stream",
     "text": [
      "104 files in directory\n"
     ]
    }
   ],
   "source": [
    "X_train, Y_train, n_train = get_dataset(train_path)\n",
    "X_test, Y_test, n_test = get_dataset(test_path)"
   ]
  },
  {
   "cell_type": "code",
   "execution_count": 573,
   "metadata": {},
   "outputs": [],
   "source": [
    "def show_image(X, Y):\n",
    "    i = random.randint(1,len(Y))\n",
    "    if Y[i]==1:\n",
    "        print('cat')\n",
    "    else:\n",
    "        print('dog')\n",
    "    data = X[i].reshape(pic_height, pic_width, 3)\n",
    "    img = Image.fromarray(data, 'RGB')\n",
    "    imshow(img)"
   ]
  },
  {
   "cell_type": "code",
   "execution_count": 574,
   "metadata": {},
   "outputs": [
    {
     "name": "stdout",
     "output_type": "stream",
     "text": [
      "cat\n"
     ]
    },
    {
     "data": {
      "image/png": "[encoded data removed]",
      "text/plain": [
       "<matplotlib.figure.Figure at 0x10a1efb00>"
      ]
     },
     "metadata": {},
     "output_type": "display_data"
    }
   ],
   "source": [
    "show_image(X_test, Y_test)"
   ]
  },
  {
   "cell_type": "markdown",
   "metadata": {},
   "source": [
    "The training set, which is in the form of a list of lists can now be converted to an array and reshaped to give us a (n_ex, 3* pic_height*pic_width) size array"
   ]
  },
  {
   "cell_type": "markdown",
   "metadata": {},
   "source": [
    "Now we will center and normalize the pixels so as to make it centered around the origin and more gaussian like. Since the relative scales of pixels are normally in the 0-255 range in images, it may not be required to perform this step."
   ]
  },
  {
   "cell_type": "code",
   "execution_count": 575,
   "metadata": {},
   "outputs": [],
   "source": [
    "def normalize(X, mean=True, std=True):\n",
    "    X = X.astype('float64')\n",
    "    X -= np.mean(X, axis=0)\n",
    "    X /= np.std(X, axis=0)\n",
    "    return np.array(X)"
   ]
  },
  {
   "cell_type": "code",
   "execution_count": 576,
   "metadata": {},
   "outputs": [],
   "source": [
    "X_train = normalize(X_train)\n",
    "X_test = normalize(X_test)"
   ]
  },
  {
   "cell_type": "markdown",
   "metadata": {},
   "source": [
    "Now let us get to the part where we will begin to create our Neural Network. The first thing we need to create is the neurons, each of which is associated with a weight and a bias, which are the parameters that the neural network will learn and optimize over the course of its learning. Let us first initialize these parameters. To do that, we need to know how many layers of neurons our network contains and the number of neurons in each layer."
   ]
  },
  {
   "cell_type": "markdown",
   "metadata": {},
   "source": [
    "Let us take the simplest case of a neural network with 1 hidden layer, 1 input and 1 output layer. \n",
    "\n",
    "**Input Layer**\n",
    "\n",
    "The number of neurons in the input layer are unique determined by the number of features in the training data.\n",
    "\n",
    "**Output Layer**\n",
    "\n",
    "If the NN is solving a regression problem, then the output layer has a single node. Otherwise if the NN is solving a classificiation problem, then it also has a single node unless softmax is used in which case the output layer has one node per class label. \n",
    "\n",
    "**Hidden Layer**\n",
    "\n",
    "The number of neurons in the hidden layer need to be input. One can look at previous [analysis](http://www.chioka.in/how-does-the-number-of-hidden-neurons-affect-a-neural-networks-performance/) which show that while too few neurons limit the ability of the neural network to learn enough, too many neurons do not add much to the learning ability of the network while resulting in overfitting by effectively turning into a memory bank and also extending the training time. A common rule of law usually abided is *the optimal size of the hidden layer is usually between the size of the input and size of the output layers*.\n",
    "\n",
    "**Number of Layers**\n",
    "\n",
    "Given that here we are trying to display an instance of a simple one hidden layer neural network, we will try to classify the dataset using just one. However the number of layers should be determined by the nature of the classification problem. A linearly separable dataset would not need a hidden layer at all, while one hidden layer suffises for most of the remaining problems. According to Jeff Heaton in \"Introduction to Neural Networks for Java, Second Edition\":\n",
    "\n",
    "\"*0 - Only capable of representing linear separable functions or decisions.*\n",
    "\n",
    "*1 - Can approximate any function that contains a continuous mapping\n",
    "from one finite space to another.*\n",
    "\n",
    "*2 - Can represent an arbitrary decision boundary to arbitrary accuracy\n",
    "with rational activation functions and can approximate any smooth\n",
    "mapping to any accuracy.*\""
   ]
  },
  {
   "cell_type": "code",
   "execution_count": 577,
   "metadata": {},
   "outputs": [],
   "source": [
    "def layer_sizes(X, Y, n_h):\n",
    "    \n",
    "    n_x = X.shape[1]\n",
    "    n_h = n_h\n",
    "    n_y = Y.shape[1]\n",
    "    \n",
    "    return n_x, n_h, n_y"
   ]
  },
  {
   "cell_type": "code",
   "execution_count": 578,
   "metadata": {},
   "outputs": [],
   "source": [
    "n_x, n_h, n_y = layer_sizes(X_train, Y_train, 10)"
   ]
  },
  {
   "cell_type": "code",
   "execution_count": 579,
   "metadata": {},
   "outputs": [],
   "source": [
    "def initialize_params(n_x, n_h, n_y):\n",
    "    \n",
    "    W1 = np.random.rand(n_h, n_x)*0.01\n",
    "    b1 = np.zeros((n_h, 1))\n",
    "    W2 = np.random.rand(n_y, n_h)*0.01\n",
    "    b2 = np.zeros((n_y, 1))\n",
    "    \n",
    "    params = {\"W1\": W1,\n",
    "              \"b1\": b1,\n",
    "              \"W2\": W2,\n",
    "              \"b2\": b2\n",
    "             }\n",
    "    return params"
   ]
  },
  {
   "cell_type": "code",
   "execution_count": 605,
   "metadata": {},
   "outputs": [],
   "source": [
    "params = initialize_params(n_x, n_h, n_y)"
   ]
  },
  {
   "cell_type": "markdown",
   "metadata": {},
   "source": [
    "Next we would like to set the learning into motion, which involves performing the following computations iteratively until the loss falls below a certain threshold or for a fixed number of iterations. The steps are\n",
    "\n",
    "- Forward propoagation\n",
    "- Calculate Loss\n",
    "- Backward Propagation\n",
    "- Parameter Update\n",
    "\n",
    "Let us write functions to evaluate each of these steps."
   ]
  },
  {
   "cell_type": "markdown",
   "metadata": {},
   "source": [
    "###Activation Functions\n",
    "\n",
    "There are several types of activation functions that can be used in a neural network, and we can use different activation functions for different neurons/layers within the neural network. In this case, we will use the simplest type of activation function, the sigmoid function."
   ]
  },
  {
   "cell_type": "code",
   "execution_count": 581,
   "metadata": {},
   "outputs": [],
   "source": [
    "def sigmoid(x):\n",
    "    return 1/(1+np.exp(-x))"
   ]
  },
  {
   "cell_type": "code",
   "execution_count": 582,
   "metadata": {},
   "outputs": [],
   "source": [
    "def forward_propagation(params, X):\n",
    "    \n",
    "    W1 = params['W1']\n",
    "    b1 = params['b1']\n",
    "    W2 = params['W2']\n",
    "    b2 = params['b2']\n",
    "    \n",
    "    Z1 = np.dot(W1,X.T) + b1\n",
    "    A1 = sigmoid(Z1)\n",
    "    Z2 = np.dot(W2,A1) + b2\n",
    "    A2 = sigmoid(Z2)\n",
    "    \n",
    "    activations = {'Z1': Z1,\n",
    "                   'A1': A1,\n",
    "                   'Z2': Z2,\n",
    "                   'A2': A2\n",
    "                    }\n",
    "    return activations"
   ]
  },
  {
   "cell_type": "code",
   "execution_count": 583,
   "metadata": {},
   "outputs": [],
   "source": [
    "acts = forward_propagation(params, X_train)"
   ]
  },
  {
   "cell_type": "code",
   "execution_count": 584,
   "metadata": {},
   "outputs": [],
   "source": [
    "def loss(A2, X, Y):\n",
    "    \n",
    "    m = Y.shape[0]\n",
    "    cost = -(np.dot(np.log(A2), Y) + np.dot(np.log(1-A2), 1-Y))/m\n",
    "    cost = cost.sum()\n",
    "    return np.squeeze(cost)"
   ]
  },
  {
   "cell_type": "code",
   "execution_count": 585,
   "metadata": {},
   "outputs": [
    {
     "name": "stdout",
     "output_type": "stream",
     "text": [
      "5230.91626493\n"
     ]
    }
   ],
   "source": [
    "cost = loss(acts['A2'], Y_train, X_train)\n",
    "print(cost)"
   ]
  },
  {
   "cell_type": "code",
   "execution_count": 586,
   "metadata": {},
   "outputs": [],
   "source": [
    "def backward_propagation(params, activations, X, Y):\n",
    "    \n",
    "    m = Y.shape[1]\n",
    "    \n",
    "    W1 = params['W1']\n",
    "    W2 = params['W2']\n",
    "    \n",
    "    A1 = activations['A1']\n",
    "    A2 = activations['A2']\n",
    "    \n",
    "    dZ2 = A2-Y.T\n",
    "    dW2 = np.dot(dZ2,A1.T)/m\n",
    "    db2 = np.sum(dZ2, axis=1, keepdims=True)/m\n",
    "    dZ1 = np.dot(W2.T,dZ2)*(1-np.power(A1,2))\n",
    "    dW1 = np.dot(dZ1,X)/m\n",
    "    db1 = np.sum(dZ1, axis=1, keepdims=True)/m\n",
    "    \n",
    "    grads = {\"dW1\": dW1,\n",
    "             \"db1\": db1,\n",
    "             \"dW2\": dW2,\n",
    "             \"db2\": db2}\n",
    "    \n",
    "    return grads"
   ]
  },
  {
   "cell_type": "code",
   "execution_count": 587,
   "metadata": {},
   "outputs": [],
   "source": [
    "grads = backward_propagation(params, acts, X_train, Y_train)"
   ]
  },
  {
   "cell_type": "code",
   "execution_count": 588,
   "metadata": {},
   "outputs": [],
   "source": [
    "def update_parameters(parameters, grads, learning_rate = 1.2):\n",
    "    \n",
    "    W1 = parameters['W1']-learning_rate*grads['dW1']\n",
    "    b1 = parameters['b1']-learning_rate*grads['db1']\n",
    "    W2 = parameters['W2']-learning_rate*grads['dW2']\n",
    "    b2 = parameters['b2']-learning_rate*grads['db2']\n",
    "    \n",
    "    params = {'W1': W1,\n",
    "              'b1': b1,\n",
    "              'W2': W2,\n",
    "              'b2': b2\n",
    "    }\n",
    "    return params"
   ]
  },
  {
   "cell_type": "code",
   "execution_count": 589,
   "metadata": {},
   "outputs": [],
   "source": [
    "params = update_parameters(params, grads, learning_rate = 1.2)"
   ]
  },
  {
   "cell_type": "markdown",
   "metadata": {},
   "source": [
    "Let us also define the predict function which uses the parameters for the minimized loss to evaluate the labels for the test cases."
   ]
  },
  {
   "cell_type": "code",
   "execution_count": 590,
   "metadata": {},
   "outputs": [],
   "source": [
    "def predict(params, X):\n",
    "    A1 = sigmoid(np.dot(params['W1'],X.T) + params['b1'])\n",
    "    A2 = sigmoid(np.dot(params['W2'],A1) + params['b2'])\n",
    "    return A2\n",
    "\n",
    "def accuracy(preds, Y):\n",
    "    return reduce((lambda s, e: s + int(e)), preds == Y) / len(Y)"
   ]
  },
  {
   "cell_type": "markdown",
   "metadata": {},
   "source": [
    "Now that we have defined all necessary functions, we can implement our neural network which will call all these functions iteratively a certain number of times."
   ]
  },
  {
   "cell_type": "code",
   "execution_count": 596,
   "metadata": {},
   "outputs": [],
   "source": [
    "def nn_model(X, Y, n_h, num_iterations=10, alpha=0.001, print_cost=False):\n",
    "    \n",
    "    #get_layer_sizes\n",
    "    n_x, n_h, n_y = layer_sizes(X, Y, n_h)\n",
    "    \n",
    "    #initialize parameters\n",
    "    params = initialize_params(n_x, n_h, n_y)\n",
    " \n",
    "    #Defining cost_list to store costs over iterations\n",
    "    cost_list = []\n",
    "    \n",
    "    for i in range(num_iterations):\n",
    "        #forward propagation\n",
    "        activations = forward_propagation(params, X)\n",
    "\n",
    "        #cost\n",
    "        cost = loss(activations['A2'], X, Y)\n",
    "        cost_list.append(cost)\n",
    "        if print_cost==True and i % 200 == 0:\n",
    "            print(cost)\n",
    "\n",
    "        #backward propagation\n",
    "        grads = backward_propagation(params, activations, X, Y)\n",
    "\n",
    "        #parameter update\n",
    "        params = update_parameters(params, grads, learning_rate = alpha)\n",
    "        \n",
    "    #Make predictions\n",
    "    train_preds = predict(params, X_train)\n",
    "    pred_labels_train = [1 if x>0.5 else 0 for x in train_preds.flatten()]\n",
    "    print('training accuracy: {}'.format(accuracy(pred_labels_train,Y_train.flatten())))\n",
    "    \n",
    "    test_preds = predict(params, X_test)\n",
    "    pred_labels_test = [1 if x>0.5 else 0 for x in test_preds.flatten()]\n",
    "    print('test accuracy: {}'.format(accuracy(pred_labels_test,Y_test.flatten())))\n",
    "    \n",
    "    d = {\"costs\": cost_list,\n",
    "         \"Y_prediction_test\": test_preds, \n",
    "         \"Y_prediction_train\" : train_preds, \n",
    "         \"learning_rate\" : alpha,\n",
    "         \"num_iterations\": num_iterations}\n",
    "    \n",
    "    return params, d"
   ]
  },
  {
   "cell_type": "code",
   "execution_count": 597,
   "metadata": {},
   "outputs": [
    {
     "name": "stdout",
     "output_type": "stream",
     "text": [
      "0.709732811219\n",
      "0.661283798386\n",
      "0.627074546058\n",
      "0.613097249339\n",
      "0.608362726518\n"
     ]
    },
    {
     "name": "stderr",
     "output_type": "stream",
     "text": [
      "/usr/local/lib/python3.6/site-packages/ipykernel_launcher.py:2: RuntimeWarning: overflow encountered in exp\n",
      "  \n"
     ]
    },
    {
     "name": "stdout",
     "output_type": "stream",
     "text": [
      "0.602759683228\n",
      "0.596587844717\n",
      "0.592242173102\n",
      "0.58812863627\n",
      "0.583973676393\n",
      "0.581881911299\n",
      "0.578689828534\n",
      "0.5821632446\n",
      "0.578165767259\n",
      "0.579929769128\n",
      "training accuracy: 0.6666666666666666\n",
      "test accuracy: 0.5769230769230769\n"
     ]
    }
   ],
   "source": [
    "parameters_final, d = nn_model(X_train, Y_train, n_h=150, num_iterations=3000, alpha=0.0001, print_cost=True)"
   ]
  },
  {
   "cell_type": "markdown",
   "metadata": {},
   "source": [
    "Plotting the cost curve, we see that with increasing iterations it gets harder and harder to further reduce the cost."
   ]
  },
  {
   "cell_type": "code",
   "execution_count": 604,
   "metadata": {},
   "outputs": [
    {
     "data": {
      "image/png": "[encoded data removed]",
      "text/plain": [
       "<matplotlib.figure.Figure at 0x11d606860>"
      ]
     },
     "metadata": {},
     "output_type": "display_data"
    }
   ],
   "source": [
    "costs = np.squeeze(d['costs'])\n",
    "plt.plot(range(d['num_iterations']), costs)\n",
    "plt.ylabel('cost')\n",
    "plt.xlabel('iterations (per hundreds)')\n",
    "plt.title(\"Learning rate =\" + str(d[\"learning_rate\"]))\n",
    "plt.show()"
   ]
  },
  {
   "cell_type": "markdown",
   "metadata": {},
   "source": [
    "###Analysis of results and possible improvements\n",
    "\n",
    "Despite the abyssymal error rates, it is quite impressive that with just rudimentary normalization followed by a neural network with one hidden layer, we are able to have a model that can differentiate between images of dogs and cats in a varied set of environments. There are scores of steps we can take from this point to improve performance."
   ]
  },
  {
   "cell_type": "markdown",
   "metadata": {},
   "source": [
    "Without throwing away current model:\n",
    " - Tweak model hyperparameters of number of neurons in the hidden layer, learning rate, number of iterations\n",
    " - Use a different type of activation function\n",
    " - Pruning\n",
    "While increasing the number of neurons in the hidden layer can inc\n",
    " \n",
    "Data Preprocessing\n",
    " - Treat image with PCA and Whitening\n",
    "\n",
    "Model Improvements \n",
    " - Introduce regularization\n",
    " - Introduce additional hidden layers"
   ]
  }
 ],
 "metadata": {
  "kernelspec": {
   "display_name": "Python 3",
   "language": "python",
   "name": "python3"
  },
  "language_info": {
   "codemirror_mode": {
    "name": "ipython",
    "version": 3
   },
   "file_extension": ".py",
   "mimetype": "text/x-python",
   "name": "python",
   "nbconvert_exporter": "python",
   "pygments_lexer": "ipython3",
   "version": "3.6.3"
  }
 },
 "nbformat": 4,
 "nbformat_minor": 2
}
